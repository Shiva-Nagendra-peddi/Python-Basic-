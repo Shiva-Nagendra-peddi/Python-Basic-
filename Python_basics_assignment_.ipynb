{
  "nbformat": 4,
  "nbformat_minor": 0,
  "metadata": {
    "colab": {
      "provenance": []
    },
    "kernelspec": {
      "name": "python3",
      "display_name": "Python 3"
    },
    "language_info": {
      "name": "python"
    }
  },
  "cells": [
    {
      "cell_type": "markdown",
      "source": [
        "Assignment -1\n",
        "Python Basics\n",
        "1.\tWhat is Python, and why is it popular?\n",
        "Ans: Python is a versatile, high-level programming language known for its clear syntax and readability. It's widely used in web development, data science, artificial intelligence, automation, and more. Its simplicity and extensive libraries make it a top choice for both beginners and professionals.\n",
        "2.\tWhat is an interpreter in Python?\n",
        "Ans: An interpreter is a program that executes Python code directly, translating it into machine code line-by-line. Python's default interpreter is CPython, written in C. It performs lexical analysis, compiles code into bytecode, and executes it using the Python Virtual Machine (PVM).\n",
        "3.\tWhat are pre-defined keywords in Python?\n",
        "Ans: Python has 35 reserved keywords that cannot be used as identifiers (variable names). These include if, else, elif, for, while, class, def, True, False, and None. Additionally, Python has 3 soft keywords (match, case, _) that can be used as identifiers outside specific contexts.\n",
        "4.\tCan keywords be used as variable names?\n",
        "Ans: No, Python keywords cannot be used as variable names. Attempting to do so will result in a syntax error.\n",
        "5.\tWhat is mutability in Python?\n",
        "Ans: Mutability refers to whether an object's state or value can be changed after it's created. Mutable objects, like lists and dictionaries, can be modified, while immutable objects, like tuples and strings, cannot be altered once created.\n",
        "6.\tWhy are lists mutable, but tuples are immutable?\n",
        "Ans: Lists are mutable to allow for flexible data manipulation, such as adding or removing elements. Tuples are immutable to provide a fixed collection, which is useful for keys in dictionaries and ensuring data integrity.\n",
        "7.\tWhat is the difference between “==” and “is” operators in Python?\n",
        "Ans: ==: Checks if two objects have the same value.\n",
        "          is: Checks if two objects refer to the same memory location.\n",
        "For example, a == b checks if a and b have the same value, while a is b checks if they are the same object in memory.\n",
        "\n",
        "\n",
        "\n",
        "8.\tWhat are logical operators in Python?\n",
        "Ans: Python's logical operators are:\n",
        "    1.\tand: Returns True if both operands are true.\n",
        "    2.\tor: Returns True if at least one operand is true.\n",
        "    3.\tnot: Returns True if the operand is false.\n",
        "    4.\tThese operators are used to combine conditional statements.\n",
        "\n",
        "9.\tWhat is type casting in Python?\n",
        "Ans: Type casting (or type conversion) is the process of converting one data type to another. Python supports both implicit and explicit type casting.\n",
        "10.\tWhat is the difference between implicit and explicit type casting?\n",
        "Ans: Implicit Type Casting: Automatically performed by Python when converting smaller data types to larger ones like int to float.\n",
        "         Explicit Type Casting: Manually performed by the programmer using functions like int(), float(), str(), etc.\n",
        "11.\tWhat is the purpose of conditional statements in Python?\n",
        "Ans: Conditional statements (if, elif, else) allow the program to execute certain blocks of code based on specific conditions, enabling decision-making and control flow.\n",
        "12.\tHow does the elif statement work?\n",
        "Ans: The elif (else if) statement checks additional conditions if the previous if or elif conditions were false. It allows for multiple conditions to be evaluated in sequence.\n",
        "13.\tWhat is the difference between for and while loops?\n",
        "Ans: for loop: Iterates over a sequence (like a list, tuple, or range) a specific number of times.\n",
        "         while loop: Repeats as long as a condition is true.\n",
        "14.\tDescribe a scenario where a while loop is more suitable than a for loop?\n",
        "Ans: Use a for loop when the number of iterations is known, and a while loop when the number of iterations depends on a condition.\n",
        "\n",
        "\n",
        "\n",
        "\n"
      ],
      "metadata": {
        "id": "roiLa9hicl1Q"
      }
    },
    {
      "cell_type": "code",
      "execution_count": 1,
      "metadata": {
        "colab": {
          "base_uri": "https://localhost:8080/"
        },
        "id": "dDMbKf27B7iF",
        "outputId": "21735393-8940-4d62-f8b0-6ad2e8a7acad"
      },
      "outputs": [
        {
          "output_type": "stream",
          "name": "stdout",
          "text": [
            "Hello, World!\n"
          ]
        }
      ],
      "source": [
        "#  Write a Python program to print \"Hello, World!\"\n",
        "print(\"Hello, World!\")"
      ]
    },
    {
      "cell_type": "code",
      "source": [
        "# Write a Python program that displays your name and age.\n",
        "name = \"Shivanagendra\"\n",
        "age = 25\n",
        "print(f\"Name: {name}, Age: {age}\")\n"
      ],
      "metadata": {
        "colab": {
          "base_uri": "https://localhost:8080/"
        },
        "id": "SUVrMi1vDPIa",
        "outputId": "1f7c9a69-4e6a-4c68-b8a9-6ee99e89a234"
      },
      "execution_count": 12,
      "outputs": [
        {
          "output_type": "stream",
          "name": "stdout",
          "text": [
            "Name: Shivanagendra, Age: 25\n"
          ]
        }
      ]
    },
    {
      "cell_type": "code",
      "source": [
        "# Write code to print all the pre-defined keywords in Python using the keyword library.\n",
        "import keyword\n",
        "print(\"Python Keywords:\", keyword.kwlist)\n",
        "\n"
      ],
      "metadata": {
        "colab": {
          "base_uri": "https://localhost:8080/"
        },
        "id": "ywQUpquuDvkP",
        "outputId": "76c1b5f9-bb42-4543-f6e7-155483a70c60"
      },
      "execution_count": 34,
      "outputs": [
        {
          "output_type": "stream",
          "name": "stdout",
          "text": [
            "Python Keywords: ['False', 'None', 'True', 'and', 'as', 'assert', 'async', 'await', 'break', 'class', 'continue', 'def', 'del', 'elif', 'else', 'except', 'finally', 'for', 'from', 'global', 'if', 'import', 'in', 'is', 'lambda', 'nonlocal', 'not', 'or', 'pass', 'raise', 'return', 'try', 'while', 'with', 'yield']\n"
          ]
        }
      ]
    },
    {
      "cell_type": "code",
      "source": [
        "# Write a program that checks if a given word is a Python keyword.\n",
        "word = input(\"Enter a word to check if it's a Python keyword: \")\n",
        "if keyword.iskeyword(word):\n",
        "    print(f\"'{word}' is a Python keyword.\")\n",
        "else:\n",
        "    print(f\"'{word}' is not a Python keyword.\")"
      ],
      "metadata": {
        "colab": {
          "base_uri": "https://localhost:8080/"
        },
        "id": "53aE6JYYF9ck",
        "outputId": "e6425029-f46e-4731-8e99-8c91bf2ea4ee"
      },
      "execution_count": 24,
      "outputs": [
        {
          "output_type": "stream",
          "name": "stdout",
          "text": [
            "Enter a word to check if it's a Python keyword: more\n",
            "'more' is not a Python keyword.\n"
          ]
        }
      ]
    },
    {
      "cell_type": "code",
      "source": [
        "# Create a list and tuple in Python, and demonstrate how attempting to change an element works differently for each.\n",
        "# Creating a list and a tuple\n",
        "my_list = [10, 20, 30]\n",
        "my_tuple = (10, 20, 30)\n",
        "\n",
        "# Attempting to modify the second element\n",
        "my_list[1] = 99  # This will succeed\n",
        "print(\"Modified list:\", my_list)\n",
        "\n",
        "try:\n",
        "    my_tuple[1] = 99  # This will raise an error\n",
        "except TypeError as e:\n",
        "    print(\"Error modifying tuple:\", e)\n",
        "\n"
      ],
      "metadata": {
        "colab": {
          "base_uri": "https://localhost:8080/"
        },
        "id": "No837mfNFubb",
        "outputId": "5e0fb66d-fbdf-4041-a39c-02ddfef55654"
      },
      "execution_count": 38,
      "outputs": [
        {
          "output_type": "stream",
          "name": "stdout",
          "text": [
            "Modified list: [10, 99, 30]\n",
            "Error modifying tuple: 'tuple' object does not support item assignment\n"
          ]
        }
      ]
    },
    {
      "cell_type": "code",
      "source": [
        "#Write a function to demonstrate the behavior of mutable and immutable arguments\n",
        "def demonstrate_mutability():\n",
        "    # Immutable argument (integer)\n",
        "    def increment(n):\n",
        "        print(f\"Inside increment: id(n) = {id(n)}\")\n",
        "        n += 1\n",
        "        print(f\"After increment: id(n) = {id(n)}\")\n",
        "        return n\n",
        "\n",
        "    x = 5\n",
        "    print(f\"Before increment: id(x) = {id(x)}\")\n",
        "    x = increment(x)\n",
        "    print(f\"After increment: id(x) = {id(x)}\")\n",
        "    print(f\"Final value of x: {x}\")\n",
        "\n",
        "    # Mutable argument (list)\n",
        "    def append_item(lst):\n",
        "        print(f\"Inside append_item: id(lst) = {id(lst)}\")\n",
        "        lst.append(4)\n",
        "        print(f\"After append_item: id(lst) = {id(lst)}\")\n",
        "        return lst\n",
        "\n",
        "    y = [1, 2, 3]\n",
        "    print(f\"Before append_item: id(y) = {id(y)}\")\n",
        "    y = append_item(y)\n",
        "    print(f\"After append_item: id(y) = {id(y)}\")\n",
        "    print(f\"Final value of y: {y}\")\n",
        "\n",
        "demonstrate_mutability()\n",
        "\n"
      ],
      "metadata": {
        "colab": {
          "base_uri": "https://localhost:8080/"
        },
        "id": "kJCUev8AG1ed",
        "outputId": "41405adf-de9e-4fee-f045-a1ca62465a18"
      },
      "execution_count": 40,
      "outputs": [
        {
          "output_type": "stream",
          "name": "stdout",
          "text": [
            "Before increment: id(x) = 10757864\n",
            "Inside increment: id(n) = 10757864\n",
            "After increment: id(n) = 10757896\n",
            "After increment: id(x) = 10757896\n",
            "Final value of x: 6\n",
            "Before append_item: id(y) = 132703656891904\n",
            "Inside append_item: id(lst) = 132703656891904\n",
            "After append_item: id(lst) = 132703656891904\n",
            "After append_item: id(y) = 132703656891904\n",
            "Final value of y: [1, 2, 3, 4]\n"
          ]
        }
      ]
    },
    {
      "cell_type": "code",
      "source": [
        "# Write a program that performs basic arithmetic operations on two user-input numbers.\n",
        "num1 = float(input(\"Enter first number: \"))\n",
        "num2 = float(input(\"Enter second number: \"))\n",
        "print(f\"Addition: {num1 + num2}\")\n",
        "print(f\"Subtraction: {num1 - num2}\")\n",
        "print(f\"Multiplication: {num1 * num2}\")\n",
        "print(f\"Division: {num1 / num2 if num2 != 0 else 'undefined'}\")"
      ],
      "metadata": {
        "colab": {
          "base_uri": "https://localhost:8080/"
        },
        "id": "ANCHuIjSHURf",
        "outputId": "886b047e-2ea3-40c4-a3f8-efe875ce4fc2"
      },
      "execution_count": 41,
      "outputs": [
        {
          "output_type": "stream",
          "name": "stdout",
          "text": [
            "Enter first number: 22\n",
            "Enter second number: 18\n",
            "Addition: 40.0\n",
            "Subtraction: 4.0\n",
            "Multiplication: 396.0\n",
            "Division: 1.2222222222222223\n"
          ]
        }
      ]
    },
    {
      "cell_type": "code",
      "source": [
        "#  Write a program to demonstrate the use of logical operators.\n",
        "# Logical AND Operator\n",
        "a = 10\n",
        "b = 5\n",
        "if a > 0 and b > 0:\n",
        "    print(\"Both a and b are positive.\")\n",
        "\n",
        "# Logical OR Operator\n",
        "x = -3\n",
        "y = 7\n",
        "if x < 0 or y > 0:\n",
        "    print(\"At least one of x or y is positive.\")\n",
        "\n",
        "# Logical NOT Operator\n",
        "is_raining = False\n",
        "if not is_raining:\n",
        "    print(\"It's a sunny day!\")\n",
        "\n",
        "# Combining Logical Operators\n",
        "age = 25\n",
        "has_ticket = True\n",
        "if (age >= 18 and age <= 60) and has_ticket:\n",
        "    print(\"Eligible for entry.\")\n",
        "else:\n",
        "    print(\"Not eligible for entry.\")\n"
      ],
      "metadata": {
        "colab": {
          "base_uri": "https://localhost:8080/"
        },
        "id": "WY3g9HtoIzJE",
        "outputId": "fcbd6b6f-2be7-4031-89c9-92e7197e3a16"
      },
      "execution_count": 43,
      "outputs": [
        {
          "output_type": "stream",
          "name": "stdout",
          "text": [
            "Both a and b are positive.\n",
            "At least one of x or y is positive.\n",
            "It's a sunny day!\n",
            "Eligible for entry.\n"
          ]
        }
      ]
    },
    {
      "cell_type": "code",
      "source": [
        "#  Write a Python program to convert user input from string to integer, float, and boolean types.\n",
        "def convert_input():\n",
        "    user_input = input(\"Enter a value: \")\n",
        "\n",
        "    try:\n",
        "        # Attempt to convert to integer\n",
        "        int_value = int(user_input)\n",
        "        print(f\"Converted to integer: {int_value} (Type: {type(int_value)})\")\n",
        "    except ValueError:\n",
        "        print(\"Input is not a valid integer.\")\n",
        "\n",
        "    try:\n",
        "        # Attempt to convert to float\n",
        "        float_value = float(user_input)\n",
        "        print(f\"Converted to float: {float_value} (Type: {type(float_value)})\")\n",
        "    except ValueError:\n",
        "        print(\"Input is not a valid float.\")\n",
        "\n",
        "    # Convert to boolean\n",
        "    bool_value = bool(user_input)\n",
        "    print(f\"Converted to boolean: {bool_value} (Type: {type(bool_value)})\")\n",
        "\n",
        "# Call the function\n",
        "convert_input()\n",
        "\n"
      ],
      "metadata": {
        "colab": {
          "base_uri": "https://localhost:8080/"
        },
        "id": "GkuB5m3fJC-j",
        "outputId": "9f0d085e-94c9-4cea-fd47-574b9962876a"
      },
      "execution_count": 44,
      "outputs": [
        {
          "output_type": "stream",
          "name": "stdout",
          "text": [
            "Enter a value: 88\n",
            "Converted to integer: 88 (Type: <class 'int'>)\n",
            "Converted to float: 88.0 (Type: <class 'float'>)\n",
            "Converted to boolean: True (Type: <class 'bool'>)\n"
          ]
        }
      ]
    },
    {
      "cell_type": "code",
      "source": [
        "# Write code to demonstrate type casting with list elements.\n",
        "# Original list with mixed data types\n",
        "mixed_list = [1, '2', 3.0, '4.5', [5, '6'], (7, '8')]\n",
        "\n",
        "# Convert all elements to strings\n",
        "string_list = [str(item) for item in mixed_list]\n",
        "\n",
        "print(\"List with all elements as strings:\", string_list)\n"
      ],
      "metadata": {
        "colab": {
          "base_uri": "https://localhost:8080/"
        },
        "id": "vEDlSLIGJjPS",
        "outputId": "e0bd77fc-ec67-4a4e-c8c1-5a069b511ebb"
      },
      "execution_count": 45,
      "outputs": [
        {
          "output_type": "stream",
          "name": "stdout",
          "text": [
            "List with all elements as strings: ['1', '2', '3.0', '4.5', \"[5, '6']\", \"(7, '8')\"]\n"
          ]
        }
      ]
    },
    {
      "cell_type": "code",
      "source": [
        "# Write a program that checks if a number is positive, negative, or zero\n",
        "# Input: Prompt the user to enter a number\n",
        "num = float(input(\"Enter a number: \"))\n",
        "\n",
        "# Check if the number is positive, negative, or zero\n",
        "if num > 0:\n",
        "    print(\"Positive number\")\n",
        "elif num < 0:\n",
        "    print(\"Negative number\")\n",
        "else:\n",
        "    print(\"Zero\")\n"
      ],
      "metadata": {
        "colab": {
          "base_uri": "https://localhost:8080/"
        },
        "id": "3m8M_hrVJ5BK",
        "outputId": "75cbdb1a-6708-4f30-b31d-a2e99d5f8802"
      },
      "execution_count": 46,
      "outputs": [
        {
          "output_type": "stream",
          "name": "stdout",
          "text": [
            "Enter a number: 19\n",
            "Positive number\n"
          ]
        }
      ]
    },
    {
      "cell_type": "code",
      "source": [
        "# Write a for loop to print numbers from 1 to 10.\n",
        "\n",
        "for num in range(1, 11):\n",
        "    print(num)\n"
      ],
      "metadata": {
        "colab": {
          "base_uri": "https://localhost:8080/"
        },
        "id": "loKHQIXDKRkO",
        "outputId": "791eb0fc-a951-4511-cfbf-c0e00bd80173"
      },
      "execution_count": 47,
      "outputs": [
        {
          "output_type": "stream",
          "name": "stdout",
          "text": [
            "1\n",
            "2\n",
            "3\n",
            "4\n",
            "5\n",
            "6\n",
            "7\n",
            "8\n",
            "9\n",
            "10\n"
          ]
        }
      ]
    },
    {
      "cell_type": "code",
      "source": [
        "# Write a Python program to find the sum of all even numbers between 1 and 50.\n",
        "# Initialize the sum variable\n",
        "even_sum = 0\n",
        "\n",
        "# Iterate through numbers from 1 to 50\n",
        "for num in range(1, 51):\n",
        "    if num % 2 == 0:\n",
        "        even_sum += num\n",
        "\n",
        "# Output the result\n",
        "print(\"Sum of all even numbers between 1 and 50:\", even_sum)\n"
      ],
      "metadata": {
        "colab": {
          "base_uri": "https://localhost:8080/"
        },
        "id": "S6NaoLj4Kft1",
        "outputId": "d1916961-73a4-4a56-c448-c00839ee4ad9"
      },
      "execution_count": 48,
      "outputs": [
        {
          "output_type": "stream",
          "name": "stdout",
          "text": [
            "Sum of all even numbers between 1 and 50: 650\n"
          ]
        }
      ]
    },
    {
      "cell_type": "code",
      "source": [
        "# Write a program to reverse a string using a while loop.\n",
        "# Function to reverse a string using a while loop\n",
        "def reverse_string(input_string):\n",
        "    reversed_string = \"\"\n",
        "    index = len(input_string) - 1  # Start from the last character\n",
        "\n",
        "    while index >= 0:\n",
        "        reversed_string += input_string[index]\n",
        "        index -= 1\n",
        "\n",
        "    return reversed_string\n",
        "\n",
        "# Example usage\n",
        "user_input = input(\"Enter a string: \")\n",
        "print(\"Reversed string:\", reverse_string(user_input))\n"
      ],
      "metadata": {
        "colab": {
          "base_uri": "https://localhost:8080/"
        },
        "id": "2KphVgGfKtca",
        "outputId": "4e5f15f5-1a5f-438f-b868-45af3fb84d0f"
      },
      "execution_count": 49,
      "outputs": [
        {
          "output_type": "stream",
          "name": "stdout",
          "text": [
            "Enter a string: shivA\n",
            "Reversed string: Avihs\n"
          ]
        }
      ]
    },
    {
      "cell_type": "code",
      "source": [
        "# Write a Python program to calculate the factorial of a number provided by the user using a while loop.\n",
        "# Function to calculate factorial using a while loop\n",
        "def factorial_with_while(number):\n",
        "    result = 1\n",
        "    while number > 1:\n",
        "        result *= number\n",
        "        number -= 1\n",
        "    return result\n",
        "\n",
        "# Input: Prompt the user to enter a number\n",
        "num = int(input(\"Enter a number to find its factorial: \"))\n",
        "\n",
        "# Check if the number is negative\n",
        "if num < 0:\n",
        "    print(\"Factorial is not defined for negative numbers.\")\n",
        "elif num == 0:\n",
        "    print(\"The factorial of 0 is 1.\")\n",
        "else:\n",
        "    # Calculate and display the factorial\n",
        "    fact = factorial_with_while(num)\n",
        "    print(f\"The factorial of {num} is {fact}\")\n"
      ],
      "metadata": {
        "colab": {
          "base_uri": "https://localhost:8080/"
        },
        "id": "PDjQzmoXK2YA",
        "outputId": "844c32e6-4fbc-48e1-f629-f1fa40c7e2a4"
      },
      "execution_count": 54,
      "outputs": [
        {
          "output_type": "stream",
          "name": "stdout",
          "text": [
            "Enter a number to find its factorial: 3\n",
            "The factorial of 3 is 6\n"
          ]
        }
      ]
    },
    {
      "cell_type": "code",
      "source": [],
      "metadata": {
        "id": "gSLFZCJLLUPt"
      },
      "execution_count": 54,
      "outputs": []
    }
  ]
}